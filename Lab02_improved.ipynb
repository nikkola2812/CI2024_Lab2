{
 "cells": [
  {
   "cell_type": "code",
   "execution_count": 1,
   "id": "e21f5801-674d-4c7d-89b7-fd11423fbb48",
   "metadata": {},
   "outputs": [],
   "source": [
    "import numpy as np\n",
    "import random\n",
    "import logging\n",
    "import pandas as pd\n",
    "from geopy.distance import geodesic\n",
    "from joblib import Parallel, delayed\n",
    "\n",
    "# Set up logging\n",
    "logging.basicConfig(level=logging.INFO)"
   ]
  },
  {
   "cell_type": "markdown",
   "id": "368d999c-0ad6-4dfb-94ec-40743b4ce5ae",
   "metadata": {},
   "source": [
    "Load data and initialize the population"
   ]
  },
  {
   "cell_type": "code",
   "execution_count": 2,
   "id": "dd2aa7f0-d693-4ef1-916a-d536af7c4b75",
   "metadata": {},
   "outputs": [],
   "source": [
    "# Load city data and calculate the distance matrix\n",
    "def load_cities_and_distance_matrix(file_path):\n",
    "    cities = pd.read_csv(file_path, header=None, names=['name', 'lat', 'lon'])\n",
    "    num_cities = len(cities)\n",
    "    \n",
    "    # Initialize an empty distance matrix\n",
    "    dist_matrix = np.zeros((num_cities, num_cities))\n",
    "    \n",
    "    # Calculate distances using geopy\n",
    "    for i in range(num_cities):\n",
    "        for j in range(i + 1, num_cities):\n",
    "            dist = geodesic((cities.iloc[i].lat, cities.iloc[i].lon), (cities.iloc[j].lat, cities.iloc[j].lon)).km\n",
    "            dist_matrix[i, j] = dist_matrix[j, i] = dist\n",
    "    \n",
    "    return cities, dist_matrix\n",
    "\n",
    "# Calculate the total cost of the TSP path\n",
    "def tsp_cost(tsp, dist_matrix):\n",
    "    cost = 0\n",
    "    for i in range(len(tsp) - 1):\n",
    "        cost += dist_matrix[tsp[i], tsp[i + 1]]\n",
    "    return cost\n",
    "\n",
    "\n",
    "# Generate an initial population of random paths\n",
    "def generate_initial_population(size, num_cities):\n",
    "    population = []\n",
    "    for _ in range(size):\n",
    "        tour = np.random.permutation(range(1, num_cities)).tolist()\n",
    "        population.append([0] + tour + [0])  # Ensure start and end at city 0\n",
    "    return population"
   ]
  },
  {
   "cell_type": "markdown",
   "id": "d2990c73-e522-4544-9405-99169e635439",
   "metadata": {},
   "source": [
    "#First and faster Greedy algorithm approach(Nearest Neigbour)"
   ]
  },
  {
   "cell_type": "code",
   "execution_count": 3,
   "id": "05b676ae-ffa3-4666-a21f-a186db73db9e",
   "metadata": {},
   "outputs": [],
   "source": [
    "# Nearest Neighbor (Greedy) Algorithm\n",
    "def nearest_neighbor(cities, dist_matrix):\n",
    "    num_cities = len(cities)\n",
    "    visited = np.full(num_cities, False)\n",
    "    city = 0  # Start at the first city\n",
    "    visited[city] = True\n",
    "    tsp = [city]\n",
    "\n",
    "    while len(tsp) < num_cities:\n",
    "        next_city = np.argmin([dist_matrix[city, i] if not visited[i] else float('inf') for i in range(num_cities)])\n",
    "        visited[next_city] = True\n",
    "        tsp.append(next_city)\n",
    "        city = next_city\n",
    "\n",
    "    tsp.append(tsp[0])  # Return to the start\n",
    "    return tsp\n",
    "#main function"
   ]
  },
  {
   "cell_type": "markdown",
   "id": "4702806c-f264-4d97-8182-c8870931c16c",
   "metadata": {},
   "source": [
    "#Slower but more accurate: genetic approach with mutation"
   ]
  },
  {
   "cell_type": "code",
   "execution_count": 4,
   "id": "1a5c81e7-ba5b-4e4d-b1c0-1dd5ecf37284",
   "metadata": {},
   "outputs": [],
   "source": [
    "# Simplified Swap Mutation\n",
    "def swap_mutation(path):\n",
    "    new_path = path[1:-1]  # Don't mutate start/end cities\n",
    "    i, j = random.sample(range(len(new_path)), 2)\n",
    "    new_path[i], new_path[j] = new_path[j], new_path[i]\n",
    "    return [0] + new_path + [0]  # Ensure path starts and ends at city 0\n",
    "\n",
    "# Genetic Algorithm\n",
    "def genetic_algorithm(cities, dist_matrix, population_size=50, generations=200, elitism_size=2, early_stopping=10):\n",
    "    # Initialize population with random paths\n",
    "    population = generate_initial_population(population_size, len(cities))\n",
    "    best_cost = float('inf')\n",
    "    no_improvement = 0\n",
    "\n",
    "    for generation in range(generations):\n",
    "        # Evaluate the fitness of the population\n",
    "        costs = [tsp_cost(individual, dist_matrix) for individual in population]\n",
    "        population = [x for _, x in sorted(zip(costs, population), key=lambda x: x[0])]\n",
    "        \n",
    "        # Elitism: Keep the best individuals\n",
    "        population = population[:population_size - elitism_size]\n",
    "\n",
    "        # Select parents and generate children\n",
    "        children = []\n",
    "        for _ in range(population_size // 2):\n",
    "            parents = random.sample(population, 2)\n",
    "            # Simple crossover (just swap segments)\n",
    "            cut1, cut2 = sorted(random.sample(range(1, len(parents[0]) - 1), 2))\n",
    "            child1 = parents[0][:cut1] + parents[1][cut1:cut2] + parents[0][cut2:]\n",
    "            child2 = parents[1][:cut1] + parents[0][cut1:cut2] + parents[1][cut2:]\n",
    "\n",
    "            if random.random() < 0.5:\n",
    "                child1 = swap_mutation(child1)\n",
    "            if random.random() < 0.5:\n",
    "                child2 = swap_mutation(child2)\n",
    "            \n",
    "            children.extend([child1, child2])\n",
    "        \n",
    "        # Add the children to the population\n",
    "        population.extend(children)\n",
    "        \n",
    "        # Keep the best elitism individuals\n",
    "        population.extend(sorted(population, key=lambda x: tsp_cost(x, dist_matrix))[:elitism_size])\n",
    "\n",
    "        # Early stopping if no improvement\n",
    "        current_best_cost = tsp_cost(population[0], dist_matrix)\n",
    "        if current_best_cost < best_cost:\n",
    "            best_cost = current_best_cost\n",
    "            no_improvement = 0\n",
    "        else:\n",
    "            no_improvement += 1\n",
    "        \n",
    "        if no_improvement >= early_stopping:\n",
    "            logging.info(f\"Early stopping at generation {generation}\")\n",
    "            break\n",
    "\n",
    "        # Logging progress\n",
    "        if generation % 20 == 0:\n",
    "            logging.info(f\"Generation {generation}: Best Cost = {best_cost:.2f} km\")\n",
    "\n",
    "    return population[0]"
   ]
  },
  {
   "cell_type": "markdown",
   "id": "3b9257ce-9d24-47ec-a22a-7e9fa79addd8",
   "metadata": {},
   "source": [
    "Solving the tsp"
   ]
  },
  {
   "cell_type": "code",
   "execution_count": 5,
   "id": "e0cf0b72-756c-4fc6-9789-a7266a260640",
   "metadata": {},
   "outputs": [
    {
     "name": "stderr",
     "output_type": "stream",
     "text": [
      "INFO:root: Cost: 1475.53 km\n",
      "INFO:root:Generation 0: Best Cost = 1494.39 km\n",
      "INFO:root:Generation 20: Best Cost = 859.46 km\n",
      "INFO:root:Early stopping at generation 22\n",
      "INFO:root:Cost: 859.46 km\n"
     ]
    }
   ],
   "source": [
    "def solve_tsp(file_path):\n",
    "    # Load cities and distance matrix\n",
    "    cities, dist_matrix = load_cities_and_distance_matrix(file_path)\n",
    "    \n",
    "    # Run Greedy Algorithm\n",
    "    greedy_path = nearest_neighbor(cities, dist_matrix)\n",
    "    greedy_cost = tsp_cost(greedy_path, dist_matrix)\n",
    "    \n",
    "    logging.info(f\" Cost: {greedy_cost:.2f} km\")\n",
    "    \n",
    "    # Run Steady-State Evolutionary Algorithm\n",
    "    genetic_path = genetic_algorithm(cities, dist_matrix)\n",
    "    genetic_cost = tsp_cost(genetic_path, dist_matrix)\n",
    "    \n",
    "    logging.info(f\"Cost: {genetic_cost:.2f} km\")\n",
    "\n",
    "\n",
    "# Example run (use your own file path)\n",
    "if __name__ == \"__main__\":\n",
    "    solve_tsp(\"/Users/nikolastankovic/Downloads/vanuatu.csv\")\n",
    "    #solve_tsp(\"/Users/nikolastankovic/Downloads/italy.csv\")\n",
    "    #solve_tsp(\"/Users/nikolastankovic/Downloads/russia.csv\")\n",
    "    #solve_tsp(\"/Users/nikolastankovic/Downloads/us.csv\")\n",
    "    #solve_tsp(\"/Users/nikolastankovic/Downloads/china.csv\")"
   ]
  }
 ],
 "metadata": {
  "kernelspec": {
   "display_name": "Python 3 (ipykernel)",
   "language": "python",
   "name": "python3"
  },
  "language_info": {
   "codemirror_mode": {
    "name": "ipython",
    "version": 3
   },
   "file_extension": ".py",
   "mimetype": "text/x-python",
   "name": "python",
   "nbconvert_exporter": "python",
   "pygments_lexer": "ipython3",
   "version": "3.11.5"
  }
 },
 "nbformat": 4,
 "nbformat_minor": 5
}
